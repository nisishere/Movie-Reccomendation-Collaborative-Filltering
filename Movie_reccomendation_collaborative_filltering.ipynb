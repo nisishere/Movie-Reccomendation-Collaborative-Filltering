{
  "nbformat": 4,
  "nbformat_minor": 0,
  "metadata": {
    "colab": {
      "name": "Movie_reccomendation_collaborative_filltering.ipynb",
      "provenance": []
    },
    "kernelspec": {
      "name": "python3",
      "display_name": "Python 3"
    },
    "language_info": {
      "name": "python"
    }
  },
  "cells": [
    {
      "cell_type": "code",
      "metadata": {
        "colab": {
          "base_uri": "https://localhost:8080/"
        },
        "id": "VSWuMhgfWlUD",
        "outputId": "2fb7af16-d1ae-4fba-d8be-d15ad55f7571"
      },
      "source": [
        "%cd /content/drive/MyDrive/Colab filtering/dataset"
      ],
      "execution_count": 1,
      "outputs": [
        {
          "output_type": "stream",
          "text": [
            "/content/drive/MyDrive/Colab filtering/dataset\n"
          ],
          "name": "stdout"
        }
      ]
    },
    {
      "cell_type": "code",
      "metadata": {
        "id": "JvL10tDkYQnm"
      },
      "source": [
        "import pandas as pd\n",
        "from scipy import sparse\n",
        "from sklearn.metrics.pairwise import cosine_similarity"
      ],
      "execution_count": 2,
      "outputs": []
    },
    {
      "cell_type": "code",
      "metadata": {
        "colab": {
          "base_uri": "https://localhost:8080/"
        },
        "id": "Jrsgy7hob_jO",
        "outputId": "c3d0beac-1079-47eb-bcc7-75c7294496f3"
      },
      "source": [
        "rating=pd.read_csv(\"ratings.csv\")\n",
        "movies= pd.read_csv(\"movies.csv\")\n",
        "ratings=pd.merge(movies,rating).drop(['genres','timestamp'],axis=1)\n",
        "print(ratings.head)"
      ],
      "execution_count": 6,
      "outputs": [
        {
          "output_type": "stream",
          "text": [
            "<bound method NDFrame.head of         movieId                                      title  userId  rating\n",
            "0             1                           Toy Story (1995)       1     4.0\n",
            "1             1                           Toy Story (1995)       5     4.0\n",
            "2             1                           Toy Story (1995)       7     4.5\n",
            "3             1                           Toy Story (1995)      15     2.5\n",
            "4             1                           Toy Story (1995)      17     4.5\n",
            "...         ...                                        ...     ...     ...\n",
            "100831   193581  Black Butler: Book of the Atlantic (2017)     184     4.0\n",
            "100832   193583               No Game No Life: Zero (2017)     184     3.5\n",
            "100833   193585                               Flint (2017)     184     3.5\n",
            "100834   193587        Bungo Stray Dogs: Dead Apple (2018)     184     3.5\n",
            "100835   193609        Andrew Dice Clay: Dice Rules (1991)     331     4.0\n",
            "\n",
            "[100836 rows x 4 columns]>\n"
          ],
          "name": "stdout"
        }
      ]
    },
    {
      "cell_type": "code",
      "metadata": {
        "colab": {
          "base_uri": "https://localhost:8080/"
        },
        "id": "M1JFwlJOdReX",
        "outputId": "3ae63421-824e-40b9-8733-2cd0e475f71d"
      },
      "source": [
        "user_rating = ratings.pivot_table(index=['userId'],columns=['title'],values='rating')\n",
        "print(user_rating.head())"
      ],
      "execution_count": 7,
      "outputs": [
        {
          "output_type": "stream",
          "text": [
            "title   '71 (2014)  ...  À nous la liberté (Freedom for Us) (1931)\n",
            "userId              ...                                           \n",
            "1              NaN  ...                                        NaN\n",
            "2              NaN  ...                                        NaN\n",
            "3              NaN  ...                                        NaN\n",
            "4              NaN  ...                                        NaN\n",
            "5              NaN  ...                                        NaN\n",
            "\n",
            "[5 rows x 9719 columns]\n"
          ],
          "name": "stdout"
        }
      ]
    },
    {
      "cell_type": "code",
      "metadata": {
        "colab": {
          "base_uri": "https://localhost:8080/"
        },
        "id": "tQwGntxDduDE",
        "outputId": "39133328-ddae-4b0a-d566-e1c588236e86"
      },
      "source": [
        "#lest drop few movies which only few users have rated and fill other nan values with 0\n",
        "user_rating= user_rating.dropna(thresh=10,axis=1).fillna(0)\n",
        "print(user_rating)"
      ],
      "execution_count": 11,
      "outputs": [
        {
          "output_type": "stream",
          "text": [
            "title   'burbs, The (1989)  ...  ¡Three Amigos! (1986)\n",
            "userId                      ...                       \n",
            "1                      0.0  ...                    4.0\n",
            "2                      0.0  ...                    0.0\n",
            "3                      0.0  ...                    0.0\n",
            "4                      0.0  ...                    0.0\n",
            "5                      0.0  ...                    0.0\n",
            "...                    ...  ...                    ...\n",
            "606                    0.0  ...                    0.0\n",
            "607                    0.0  ...                    0.0\n",
            "608                    0.0  ...                    0.0\n",
            "609                    0.0  ...                    0.0\n",
            "610                    0.0  ...                    0.0\n",
            "\n",
            "[610 rows x 2269 columns]\n"
          ],
          "name": "stdout"
        }
      ]
    },
    {
      "cell_type": "code",
      "metadata": {
        "colab": {
          "base_uri": "https://localhost:8080/"
        },
        "id": "wgULj7bHfJqb",
        "outputId": "d76ea2a4-f6ce-4383-e5d2-05e534de3b97"
      },
      "source": [
        "#buiild similarity matrix\n",
        "item_similarity_df=user_rating.corr(method=\"pearson\")\n",
        "print(item_similarity_df.head())"
      ],
      "execution_count": 39,
      "outputs": [
        {
          "output_type": "stream",
          "text": [
            "title                              'burbs, The (1989)  ...  ¡Three Amigos! (1986)\n",
            "title                                                  ...                       \n",
            "'burbs, The (1989)                           1.000000  ...               0.353194\n",
            "(500) Days of Summer (2009)                  0.063117  ...               0.125905\n",
            "10 Cloverfield Lane (2016)                  -0.023768  ...               0.002733\n",
            "10 Things I Hate About You (1999)            0.143482  ...               0.110612\n",
            "10,000 BC (2008)                             0.011998  ...               0.083518\n",
            "\n",
            "[5 rows x 2269 columns]\n"
          ],
          "name": "stdout"
        }
      ]
    },
    {
      "cell_type": "code",
      "metadata": {
        "id": "g8URiyE4fyNm"
      },
      "source": [
        "def get_similar_movies(movie_name,rating):\n",
        "   similar_score = item_similarity_df[movie_name]*(rating-2.5)\n",
        "   similar_score = similar_score.sort_values(ascending=False)\n",
        "   \n",
        "   return similar_score"
      ],
      "execution_count": 49,
      "outputs": []
    },
    {
      "cell_type": "code",
      "metadata": {
        "colab": {
          "base_uri": "https://localhost:8080/"
        },
        "id": "xPl9CziGgl4u",
        "outputId": "3ebae521-b52d-414e-f666-c611e114494d"
      },
      "source": [
        "#testing code\n",
        "romantic_lover = [(\"(500) Days of Summer (2009)\",5),(\"Alice in Wonderland (2010)\",3),(\"Aliens (1986)\",1),(\"2001: A Space Odyssey (1968)\",2)]\n",
        "similar_movies = pd.DataFrame()\n",
        "for movie,rating in romantic_lover:\n",
        "    similar_movies = similar_movies.append(get_similar_movies(movie,rating),ignore_index = True)\n",
        "\n",
        "similar_movies.head(10)\n",
        "similar_movies.sum().sort_values(ascending=False).head(20)"
      ],
      "execution_count": 54,
      "outputs": [
        {
          "output_type": "execute_result",
          "data": {
            "text/plain": [
              "(500) Days of Summer (2009)                      2.584556\n",
              "Alice in Wonderland (2010)                       1.395229\n",
              "Silver Linings Playbook (2012)                   1.254800\n",
              "Yes Man (2008)                                   1.116264\n",
              "Adventureland (2009)                             1.112235\n",
              "Marley & Me (2008)                               1.108381\n",
              "About Time (2013)                                1.102192\n",
              "Crazy, Stupid, Love. (2011)                      1.088757\n",
              "50/50 (2011)                                     1.086517\n",
              "Help, The (2011)                                 1.075963\n",
              "Up in the Air (2009)                             1.053037\n",
              "Holiday, The (2006)                              1.034470\n",
              "Friends with Benefits (2011)                     1.030875\n",
              "Notebook, The (2004)                             1.025880\n",
              "Easy A (2010)                                    1.015771\n",
              "Secret Life of Walter Mitty, The (2013)          0.997979\n",
              "Perks of Being a Wallflower, The (2012)          0.967425\n",
              "Toy Story 3 (2010)                               0.963276\n",
              "Ugly Truth, The (2009)                           0.959079\n",
              "Harry Potter and the Half-Blood Prince (2009)    0.954180\n",
              "dtype: float64"
            ]
          },
          "metadata": {
            "tags": []
          },
          "execution_count": 54
        }
      ]
    },
    {
      "cell_type": "code",
      "metadata": {
        "id": "UfFbexP-f3gL"
      },
      "source": [
        ""
      ],
      "execution_count": null,
      "outputs": []
    }
  ]
}